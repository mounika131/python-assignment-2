{
  "nbformat": 4,
  "nbformat_minor": 0,
  "metadata": {
    "colab": {
      "name": "ineuron python assignment 2 .ipynb",
      "provenance": []
    },
    "kernelspec": {
      "name": "python3",
      "display_name": "Python 3"
    }
  },
  "cells": [
    {
      "cell_type": "code",
      "metadata": {
        "id": "QjspY8oCD2vK",
        "outputId": "a3a78f1e-987f-4c42-89eb-7dd1e1ca33e2",
        "colab": {
          "base_uri": "https://localhost:8080/",
          "height": 194
        }
      },
      "source": [
        "num=6;\n",
        "for i in range(num):\n",
        "  # print(i)\n",
        "  for j in range(i):\n",
        "    print('*', end=\" \")\n",
        "  print()\n",
        "for i in range(num-2,0,-1):\n",
        "  # print(i)\n",
        "  for j in range(i):\n",
        "    print('*', end=\" \")\n",
        "  print()\n",
        "\n",
        "     "
      ],
      "execution_count": 1,
      "outputs": [
        {
          "output_type": "stream",
          "text": [
            "\n",
            "* \n",
            "* * \n",
            "* * * \n",
            "* * * * \n",
            "* * * * * \n",
            "* * * * \n",
            "* * * \n",
            "* * \n",
            "* \n"
          ],
          "name": "stdout"
        }
      ]
    },
    {
      "cell_type": "code",
      "metadata": {
        "id": "NU8UwSJ5J-jk",
        "outputId": "80b0f280-06f7-41d7-bf23-7154d03c8f4a",
        "colab": {
          "base_uri": "https://localhost:8080/",
          "height": 70
        }
      },
      "source": [
        "\n",
        "val = input(\"Enter your value: \") \n",
        "print(val) \n",
        "for i in range(len(val)-1,-1,-1):\n",
        "  print(val[i],end=\"\")\n",
        "\n"
      ],
      "execution_count": 2,
      "outputs": [
        {
          "output_type": "stream",
          "text": [
            "Enter your value: ineuron\n",
            "ineuron\n",
            "norueni"
          ],
          "name": "stdout"
        }
      ]
    }
  ]
}